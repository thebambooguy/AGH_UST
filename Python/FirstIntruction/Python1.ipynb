{
 "cells": [
  {
   "cell_type": "markdown",
   "metadata": {},
   "source": [
    "1.Napisz skrypt wyswietlaj¡cy powitanie (np.shebang\u0010Hello World\u0010) uzywajac i bez (uruchamiajac go standardowym poleceniem interpretera - python3"
   ]
  },
  {
   "cell_type": "code",
   "execution_count": null,
   "metadata": {},
   "outputs": [
    {
     "name": "stdout",
     "output_type": "stream",
     "text": [
      "Hello World\n"
     ]
    }
   ],
   "source": [
    "#!usr/bin/python3\n",
    "\n",
    "print('Hello World')"
   ]
  },
  {
   "cell_type": "markdown",
   "metadata": {},
   "source": [
    "2.Napisz skrypt, który pyta o imie, nazwisko i rok urodzenia (powinny byc\n",
    "podane w jednej linii)"
   ]
  },
  {
   "cell_type": "code",
   "execution_count": 1,
   "metadata": {},
   "outputs": [
    {
     "name": "stdout",
     "output_type": "stream",
     "text": [
      "Enter name, surname, date:Patryk Szelag 00.00.0000\n",
      "Name: Patryk, Surname: Szelag, Date: 00.00.0000\n"
     ]
    }
   ],
   "source": [
    "name, surname, date = input(\"Enter name, surname, date:\").split()\n",
    "print(\"Name: {}, Surname: {}, Date: {}\".format(name, surname, date))"
   ]
  },
  {
   "cell_type": "markdown",
   "metadata": {},
   "source": [
    "3.Napisz skrypt zliczajacy ilosc plików w katalogu /dev ,skorzystaj ze standardowej biblioteki - os"
   ]
  },
  {
   "cell_type": "code",
   "execution_count": 2,
   "metadata": {},
   "outputs": [
    {
     "ename": "FileNotFoundError",
     "evalue": "[WinError 3] The system cannot find the path specified: '/dev'",
     "output_type": "error",
     "traceback": [
      "\u001b[1;31m---------------------------------------------------------------------------\u001b[0m",
      "\u001b[1;31mFileNotFoundError\u001b[0m                         Traceback (most recent call last)",
      "\u001b[1;32m<ipython-input-2-744e6f8cd24d>\u001b[0m in \u001b[0;36m<module>\u001b[1;34m()\u001b[0m\n\u001b[0;32m      1\u001b[0m \u001b[1;32mimport\u001b[0m \u001b[0mos\u001b[0m\u001b[1;33m\u001b[0m\u001b[0m\n\u001b[1;32m----> 2\u001b[1;33m \u001b[0mfiles\u001b[0m \u001b[1;33m=\u001b[0m \u001b[0mos\u001b[0m\u001b[1;33m.\u001b[0m\u001b[0mlistdir\u001b[0m\u001b[1;33m(\u001b[0m\u001b[1;34m'/dev'\u001b[0m\u001b[1;33m)\u001b[0m\u001b[1;33m\u001b[0m\u001b[0m\n\u001b[0m\u001b[0;32m      3\u001b[0m \u001b[0mprint\u001b[0m\u001b[1;33m(\u001b[0m\u001b[0mlen\u001b[0m\u001b[1;33m(\u001b[0m\u001b[0mfiles\u001b[0m\u001b[1;33m)\u001b[0m\u001b[1;33m)\u001b[0m\u001b[1;33m\u001b[0m\u001b[0m\n",
      "\u001b[1;31mFileNotFoundError\u001b[0m: [WinError 3] The system cannot find the path specified: '/dev'"
     ]
    }
   ],
   "source": [
    "import os\n",
    "files = os.listdir('/dev') \n",
    "print(len(files))"
   ]
  },
  {
   "cell_type": "markdown",
   "metadata": {},
   "source": [
    "4.Napisz skrypt realizujacy funkcje zamka szyfrowego. Prosi o podanie kodu\n",
    "i nastepnie sprawdza czy jest on zgodny z wczesniej wprowadzonym kodem"
   ]
  },
  {
   "cell_type": "code",
   "execution_count": null,
   "metadata": {},
   "outputs": [
    {
     "name": "stdout",
     "output_type": "stream",
     "text": [
      "Enter password:125\n",
      "Wrong password\n"
     ]
    }
   ],
   "source": [
    "mypassword = '1234'\n",
    "yourpassword = input('Enter password:')\n",
    "if( mypassword == yourpassword):\n",
    "    print('My password is too easy')\n",
    "else:\n",
    "    print('Wrong password')"
   ]
  },
  {
   "cell_type": "markdown",
   "metadata": {},
   "source": [
    "5.Napisz rekurencyjne przejscie drzewa katalogów i wypisanie plików, które\n",
    "znajduja sie w eksplorowanej strukturze"
   ]
  },
  {
   "cell_type": "code",
   "execution_count": null,
   "metadata": {},
   "outputs": [],
   "source": [
    "import os\n",
    "\n",
    "def dirs_and_files(rootdir):\n",
    "    files = []\n",
    "    directories = os.listdir(rootdir)\n",
    "    for dir in directories:\n",
    "        path = os.path.join(rootdir,dir)\n",
    "        if os.path.isdir(path):\n",
    "            files = files + dirs_and_files(path)\n",
    "        else:\n",
    "            files.append(path)\n",
    "\n",
    "    return files\n",
    "\n",
    "\n",
    "rootdir = input('Podaj sciezke:')\n",
    "files_dirs = dirs_and_files(rootdir)\n",
    "print(files_dirs, '\\n')"
   ]
  },
  {
   "cell_type": "markdown",
   "metadata": {},
   "source": [
    "6.Napisz skrypt konwersji rozszerzen plikow *.jpg na *.png (uprzednio stwórz zestaw 4 plików z rozszerzeniem *.jpg)"
   ]
  },
  {
   "cell_type": "code",
   "execution_count": 30,
   "metadata": {},
   "outputs": [
    {
     "name": "stdout",
     "output_type": "stream",
     "text": [
      "['Untitled.ipynb', 'plan.png', 'Python1.ipynb', '.ipynb_checkpoints']\n"
     ]
    }
   ],
   "source": [
    "import os\n",
    "files = os.listdir()\n",
    "for file in files:\n",
    "    name, ext = file.split('.')\n",
    "    if ext == 'jpg':\n",
    "        os.rename(file,name + \".png\")\n",
    "        \n",
    "print(files)"
   ]
  },
  {
   "cell_type": "markdown",
   "metadata": {},
   "source": [
    "7.Napisz skrypt obliczaj¡cy pierwiastki równania kwadratowego w postaci:\n",
    "y = ax^2+bx+c. Wejsciem skryptu sa wartosci: a,b,c "
   ]
  },
  {
   "cell_type": "code",
   "execution_count": 4,
   "metadata": {},
   "outputs": [
    {
     "name": "stdout",
     "output_type": "stream",
     "text": [
      "Podaj a,b,c oddzielone spacjami: 4.5 13 2\n",
      "Są dwa rozwiązania i x1= -0.16304860059213372 a x2= -2.725840288296755\n"
     ]
    }
   ],
   "source": [
    "import math\n",
    "\n",
    "a, b, c = input('Podaj a,b,c oddzielone spacjami: ').split()\n",
    "aa = float(a)\n",
    "bb = float(b)\n",
    "cc = float(c)\n",
    "#a = int(input(\"Enter a number: \")) - w pythonie 3 nie ma funkcji raw_input(), a input() nie rozpoznaje typów danych\n",
    "delta = bb*bb-4*aa*cc\n",
    "if(delta < 0):\n",
    "    print('Brak rzeczywistych rozwiazan rownania')\n",
    "elif(delta == 0):\n",
    "    x0 = -bb/(2*aa)\n",
    "    print('Jest jedno rozwiązanie i x0= {}'.format(x0))\n",
    "elif(delta > 0):\n",
    "    x1 = (-bb+math.sqrt(delta))/(2*aa)\n",
    "    x2 = (-bb-math.sqrt(delta))/(2*aa)\n",
    "    print('Są dwa rozwiązania i x1= {} a x2= {}'.format(x1,x2))\n",
    "\n"
   ]
  },
  {
   "cell_type": "markdown",
   "metadata": {},
   "source": [
    "8.Napisz skrypt sortujacy liczby malejaco. Wygeneruj losowo 50 liczb - wykorzystaj standardowa funkcje do losowania. Z wbudowanej funkcji sortujacej korzystaj tylko w celu weryfikacji wyników"
   ]
  },
  {
   "cell_type": "code",
   "execution_count": 70,
   "metadata": {},
   "outputs": [
    {
     "name": "stdout",
     "output_type": "stream",
     "text": [
      "[444, 17, 928, 630, 892, 749, 523, 61, 549, 264, 339, 476, 429, 619, 134, 440, 481, 660, 909, 966, 997, 705, 303, 19, 797, 378, 619, 697, 557, 391, 672, 281, 969, 128, 475, 7, 900, 488, 129, 806, 822, 336, 556, 11, 53, 113, 578, 113, 784, 284, 502]\n",
      "My own sorting argument:\n",
      "[997, 969, 966, 928, 909, 900, 892, 822, 806, 797, 784, 749, 705, 697, 672, 660, 630, 619, 619, 578, 557, 556, 549, 523, 502, 488, 481, 476, 475, 444, 440, 429, 391, 378, 339, 336, 303, 284, 281, 264, 134, 129, 128, 113, 113, 61, 53, 19, 17, 11, 7]\n"
     ]
    }
   ],
   "source": [
    "import random\n",
    "numbers = []\n",
    "\n",
    "while len(numbers) < 51:\n",
    "    number = random.randint(0,1000)\n",
    "    numbers.append(number)\n",
    "    \n",
    "print(numbers)\n",
    "    \n",
    "for iter_num in range(len(numbers)-1,0,-1):\n",
    "    for number in range(iter_num):\n",
    "        if numbers[number+1] > numbers[number]:\n",
    "            temp = numbers[number]\n",
    "            numbers[number] = numbers[number+1]\n",
    "            numbers[number+1] = temp\n",
    "\n",
    "print(\"My own sorting argument:\")\n",
    "print(numbers)\n"
   ]
  },
  {
   "cell_type": "markdown",
   "metadata": {},
   "source": [
    "9.Napisz skrypt usuwajacy z wejsciowego ciagu tekstowego (wybierz kilka plików z repozytorium: Tekstowego) nastepujace slowa: nigdy, dlaczego sie, i, oraz."
   ]
  },
  {
   "cell_type": "code",
   "execution_count": 92,
   "metadata": {},
   "outputs": [
    {
     "name": "stdout",
     "output_type": "stream",
     "text": [
      "['Nigdy', 'się', 'do', 'mnie', 'nie', 'odezwał,', 'nigdy.', 'Ocb?', 'Dlaczego', 'tak', 'jest?', 'Siemka,', 'siemka,', 'siemka', 'i', 'Siemka', 'Siemka', 'oraz', 'siemka', 'i', 'siemka', 'siemka', 'nigdy', 'drzemka,', 'głowa', 'pęka,', 'dlaczego', 'dla', 'mnie', 'taka', 'męka']\n",
      "\n",
      "\n",
      "['się', 'do', 'mnie', 'nie', 'odezwał,', 'nigdy.', 'Ocb?', 'tak', 'jest?', 'Siemka,', 'siemka,', 'siemka', 'Siemka', 'Siemka', 'siemka', 'siemka', 'siemka', 'drzemka,', 'głowa', 'pęka,', 'dla', 'mnie', 'taka', 'męka']\n"
     ]
    }
   ],
   "source": [
    "file = open(\"9.txt\",\"r\")\n",
    "words_to_remove = ['nigdy', 'dlaczego', 'się', 'i', 'oraz', 'Nigdy', 'Dlaczego']\n",
    "\n",
    "words = list(file.read().split())\n",
    "print(words)         \n",
    "\n",
    "for word in words:\n",
    "    if word in words_to_remove:\n",
    "        words.remove(word)\n",
    "\n",
    "print(\"\\n\")\n",
    "print(words)"
   ]
  },
  {
   "cell_type": "markdown",
   "metadata": {},
   "source": [
    "10.Napisz skrypt zmieniajacy w podanym ciagu wejsciowym (wybierz kilka plików z repozytorium: Tekstowego) nastepujace \n",
    "slowa: i, oraz, nigdy, dlaczego na nastepujacy zestaw slów: oraz, i, prawie nigdy, czemu. Zalecana struktura jest slownik."
   ]
  },
  {
   "cell_type": "code",
   "execution_count": 361,
   "metadata": {},
   "outputs": [
    {
     "name": "stdout",
     "output_type": "stream",
     "text": [
      "['Nigdy', 'się', 'do', 'mnie', 'nie', 'odezwał.', 'Ocb?', 'Dlaczego', 'tak', 'jest?', 'Hej', 'i', 'Siemka', 'oraz', 'SIEMKA.', 'Siemka', 'nigdy', 'drzemka,', 'głowa', 'pęka,', 'dlaczego', 'dla', 'mnie', 'taka', 'męka']\n",
      "\n",
      "\n",
      "Prawie nigdy się do mnie nie odezwał. Ocb? Dlaczego tak jest? Hej oraz Siemka i SIEMKA. Siemka prawie nigdy drzemka, głowa pęka, czemu dla mnie taka męka\n"
     ]
    }
   ],
   "source": [
    "file = open(\"9.txt\",\"r\")\n",
    "change_words= {'i': 'oraz', 'oraz': 'i', 'nigdy': 'prawie nigdy', 'dlaczego': 'czemu','Nigdy': 'Prawie nigdy' }\n",
    "\n",
    "words = list(file.read().split())\n",
    "print(words)\n",
    "\n",
    "for i,word in enumerate(words):\n",
    "    if word in change_words:\n",
    "            words[i] = change_words[word]\n",
    "\n",
    "print('\\n')\n",
    "new_text = ' '.join(words)\n",
    "print(new_text)"
   ]
  },
  {
   "cell_type": "markdown",
   "metadata": {},
   "source": [
    "11.Napisz skrypt obliczaj¡cy warto±¢ iloczynu dwóch wektorów : a = [1, 2, 12, 4], b = [2, 4, 2, 8], tzw. iloczyn skalarny wektorów."
   ]
  },
  {
   "cell_type": "code",
   "execution_count": 141,
   "metadata": {},
   "outputs": [
    {
     "name": "stdout",
     "output_type": "stream",
     "text": [
      "Iloczyn skalarny wektora a i b wynosi: 66\n"
     ]
    }
   ],
   "source": [
    "a = [1,2,12,4]\n",
    "b = [2,4,2,8]\n",
    "v = 0\n",
    "\n",
    "for i in range(len(a)):\n",
    "    v += a[i]*b[i]\n",
    "\n",
    "print('Iloczyn skalarny wektora a i b wynosi: {}'.format(v))"
   ]
  },
  {
   "cell_type": "markdown",
   "metadata": {},
   "source": [
    "12.Napisz skrypt sumujący dwie macierze o rozmiarach 128x128. Wykorzystaj generator liczb losowych do wygenerowania macierzy. Zrealizuj operację z wykorzystaniem..."
   ]
  },
  {
   "cell_type": "code",
   "execution_count": 360,
   "metadata": {},
   "outputs": [
    {
     "name": "stdout",
     "output_type": "stream",
     "text": [
      "First 3 columns of first array: 63 7 79\n",
      "First 3 columns of second array:31 10 36\n",
      "First 3 columns of third array: 94 17 115\n"
     ]
    }
   ],
   "source": [
    "import random as rand\n",
    "\n",
    "N = 128\n",
    "array_1 = [[rand.randint(0,100) for x in range(N)] for y in range(N)]\n",
    "array_2 = [[rand.randint(0,100) for x in range(N)] for y in range(N)]\n",
    "array_3 = [[ 0 for x in range(N)] for y in range(N)]\n",
    "\n",
    "for i in range(N):\n",
    "    for j in range(N):\n",
    "        array_3[i][j] = array_1[i][j]+array_2[i][j]\n",
    "   \n",
    "print('First 3 columns of first array: {} {} {}'.format(array_1[1][0],array_1[1][1],array_1[1][2]))\n",
    "print('First 3 columns of second array:{} {} {}'.format(array_2[1][0],array_2[1][1],array_2[1][2]))\n",
    "print('First 3 columns of third array: {} {} {}'.format(array_3[1][0],array_3[1][1],array_3[1][2]))"
   ]
  },
  {
   "cell_type": "markdown",
   "metadata": {},
   "source": [
    "13.Napisz skrypt realizujący mnożenie dwóch macierzy o rozmiarach 8x8"
   ]
  },
  {
   "cell_type": "code",
   "execution_count": 325,
   "metadata": {},
   "outputs": [
    {
     "name": "stdout",
     "output_type": "stream",
     "text": [
      "[[352, 160, 205, 276, 275, 287, 315, 223], [212, 44, 151, 156, 122, 115, 174, 126], [252, 98, 157, 196, 171, 179, 222, 191], [210, 130, 202, 189, 184, 207, 180, 119], [235, 180, 133, 214, 229, 234, 191, 105], [160, 156, 69, 188, 102, 181, 136, 186], [211, 148, 78, 169, 217, 206, 192, 110], [240, 152, 121, 197, 179, 191, 202, 153]]\n"
     ]
    }
   ],
   "source": [
    "import random as rand\n",
    "\n",
    "N = 8\n",
    "a1 = [[rand.randint(0,10) for x in range(N)] for y in range(N)]\n",
    "a2 = [[rand.randint(0,10) for x in range(N)] for y in range(N)]\n",
    "a3 = [[ 0 for x in range(N)] for y in range(N)]\n",
    "\n",
    "for i in range(len(a1)): #iteracja po rzędach macierzy a1\n",
    "    for j in range(len(a2[0])): #iteracja po kolumnach macierzy a2\n",
    "       for k in range(len(a2)):     #iteracja po rzedach macierzy a2\n",
    "            a3[i][j] += a1[i][k] * a2[k][j]\n",
    "            \n",
    "print(a3)"
   ]
  },
  {
   "cell_type": "markdown",
   "metadata": {},
   "source": [
    "14.Napisz skrypt wyliczający wyznacznik macierzy wygenerowanej losowo"
   ]
  },
  {
   "cell_type": "code",
   "execution_count": 348,
   "metadata": {},
   "outputs": [
    {
     "name": "stdout",
     "output_type": "stream",
     "text": [
      "[[0, 2, 2], [1, 2, 3], [1, 3, 7]]\n",
      "-6\n"
     ]
    }
   ],
   "source": [
    "import random as rand\n",
    "\n",
    "N = rand.randint(0,5)\n",
    "X = [[rand.randint(0,10) for x in range(N)] for y in range(N)]\n",
    "\n",
    "def getMatrixMinor(matrix,i,j):\n",
    "    return [row[:j] + row[j+1:] for row in (matrix[:i]+matrix[i+1:])]\n",
    "\n",
    "def getMatrixDeterminant(matrix):\n",
    "    if len(matrix) == 2:\n",
    "        return matrix[0][0]*matrix[1][1]-matrix[0][1]*matrix[1][0]\n",
    "    \n",
    "    determinant = 0\n",
    "    for c in range(len(matrix)):\n",
    "        determinant += ((-1)**c)*matrix[0][c]*getMatrixDeterminant(getMatrixMinor(matrix,0,c))\n",
    "    return determinant\n",
    "\n",
    "print(X)\n",
    "det = getMatrixDeterminant(X)\n",
    "print(det)"
   ]
  }
 ],
 "metadata": {
  "kernelspec": {
   "display_name": "Python 3",
   "language": "python",
   "name": "python3"
  },
  "language_info": {
   "codemirror_mode": {
    "name": "ipython",
    "version": 3
   },
   "file_extension": ".py",
   "mimetype": "text/x-python",
   "name": "python",
   "nbconvert_exporter": "python",
   "pygments_lexer": "ipython3",
   "version": "3.7.1"
  }
 },
 "nbformat": 4,
 "nbformat_minor": 2
}
